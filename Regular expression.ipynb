{
 "cells": [
  {
   "cell_type": "markdown",
   "metadata": {},
   "source": [
    "# Regular Expression\n",
    "regular expression is a special sequence of characters that helps you match or find other strings or sets of strings, using a specialized syntax held in a pattern. Regular expressions are widely used in UNIX world.\n",
    "The Python module re provides full support for Perl-like regular expressions in Python. The re module raises the exception re.error if an error occurs while compiling or using a regular expression."
   ]
  },
  {
   "cell_type": "raw",
   "metadata": {},
   "source": [
    "Here is the syntax for this function −\n",
    "re.match(pattern, string, flags=0)\n",
    "\n",
    "pattern\n",
    "This is the regular expression to be matched.\n",
    "\n",
    "\n",
    "string\n",
    "This is the string, which would be searched to match the pattern at the beginning of string\n",
    "\n",
    "\n",
    "flags\n",
    "You can specify different flags using bitwise OR (|). These are modifiers, which are listed in the table below.\n",
    "\n",
    "\n",
    "Match Object Method & Description\n",
    "1.\n",
    "group(num=0)\n",
    "This method returns entire match (or specific subgroup num)\n",
    "2.\n",
    "groups()\n",
    "This method returns all matching subgroups in a tuple (empty if there weren't any)\n"
   ]
  },
  {
   "cell_type": "code",
   "execution_count": 3,
   "metadata": {},
   "outputs": [
    {
     "name": "stdout",
     "output_type": "stream",
     "text": [
      "searchObj.group() :  Cats are smarter than dogs\n",
      "searchObj.group(1) :  Cats\n",
      "searchObj.group(2) :  smarter\n"
     ]
    }
   ],
   "source": [
    "import re\n",
    "\n",
    "line = \"Cats are smarter than dogs\"\n",
    "\n",
    "matchObj = re.match( r'(.*) are (.*?) .*', line, re.M|re.I)\n",
    "\n",
    "if searchObj:\n",
    "   print (\"searchObj.group() : \", searchObj.group())\n",
    "   print (\"searchObj.group(1) : \", searchObj.group(1))\n",
    "   print (\"searchObj.group(2) : \", searchObj.group(2))\n",
    "else:\n",
    "   print (\"Nothing found!!\")"
   ]
  },
  {
   "cell_type": "raw",
   "metadata": {},
   "source": [
    "The search Function\n",
    "This function searches for first occurrence of RE pattern within string with optional flags.\n",
    "Here is the syntax for this function −\n",
    "re.search(pattern, string, flags=0)"
   ]
  },
  {
   "cell_type": "code",
   "execution_count": 2,
   "metadata": {},
   "outputs": [
    {
     "name": "stdout",
     "output_type": "stream",
     "text": [
      "searchObj.group() :  Cats are smarter than dogs\n",
      "searchObj.group(1) :  Cats\n",
      "searchObj.group(2) :  smarter\n"
     ]
    }
   ],
   "source": [
    "import re\n",
    "\n",
    "line = \"Cats are smarter than dogs\";\n",
    "\n",
    "searchObj = re.search( r'(.*) are (.*?) .*', line, re.M|re.I)\n",
    "\n",
    "if searchObj:\n",
    "   print (\"searchObj.group() : \", searchObj.group())\n",
    "   print (\"searchObj.group(1) : \", searchObj.group(1))\n",
    "   print (\"searchObj.group(2) : \", searchObj.group(2))\n",
    "else:\n",
    "   print (\"Nothing found!!\")"
   ]
  },
  {
   "cell_type": "raw",
   "metadata": {},
   "source": [
    "\n",
    "Modifier & Description\n",
    "1\n",
    "re.I\n",
    "Performs case-insensitive matching.\n",
    "2\n",
    "re.L\n",
    "Interprets words according to the current locale. This interpretation affects the alphabetic group (\\w and \\W), as well as word boundary behavior(\\b and \\B).\n",
    "3\n",
    "re.M\n",
    "Makes $ match the end of a line (not just the end of the string) and makes ^ match the start of any line (not just the start of the string).\n",
    "4\n",
    "re.S\n",
    "Makes a period (dot) match any character, including a newline.\n",
    "5\n",
    "re.U\n",
    "Interprets letters according to the Unicode character set. This flag affects the behavior of \\w, \\W, \\b, \\B.\n",
    "6\n",
    "re.X\n",
    "Permits \"cuter\" regular expression syntax. It ignores whitespace (except inside a set [] or when escaped by a backslash) and treats unescaped # as a comment marker."
   ]
  },
  {
   "cell_type": "markdown",
   "metadata": {},
   "source": [
    "# Matching Versus Searching\n",
    "Python offers two different primitive operations based on regular expressions: match checks for a match only at the beginning of the string, while search checks for a match anywhere in the string (this is what Perl does by default)."
   ]
  },
  {
   "cell_type": "code",
   "execution_count": 10,
   "metadata": {},
   "outputs": [
    {
     "name": "stdout",
     "output_type": "stream",
     "text": [
      "No match!!\n",
      "search --> searchObj.group() :  dogs\n"
     ]
    }
   ],
   "source": [
    "import re\n",
    "\n",
    "line = \"Cats are smarter than dogs\";\n",
    "\n",
    "matchObj = re.match( r'dogs', line, re.M|re.I)\n",
    "if matchObj:\n",
    "   print (\"match --> matchObj.group() : \", matchObj.group(2))\n",
    "else:\n",
    "   print (\"No match!!\")\n",
    "\n",
    "searchObj = re.search( r'dogs', line, re.M|re.I)\n",
    "if searchObj:\n",
    "   print (\"search --> searchObj.group() : \", searchObj.group())\n",
    "else:\n",
    "   print (\"Nothing found!!\")"
   ]
  },
  {
   "cell_type": "markdown",
   "metadata": {},
   "source": [
    "# Search and Replace\n",
    "One of the most important re methods that use regular expressions is sub."
   ]
  },
  {
   "cell_type": "raw",
   "metadata": {},
   "source": [
    "Syntax\n",
    "re.sub(pattern, repl, string, max=0)\n",
    "This method replaces all occurrences of the RE pattern in string with repl, substituting all occurrences unless max provided. This method returns modified string."
   ]
  },
  {
   "cell_type": "code",
   "execution_count": 11,
   "metadata": {},
   "outputs": [
    {
     "name": "stdout",
     "output_type": "stream",
     "text": [
      "Phone Num :  2004-959-559 \n",
      "Phone Num :  2004959559\n"
     ]
    }
   ],
   "source": [
    "import re\n",
    "\n",
    "phone = \"2004-959-559 # This is Phone Number\"\n",
    "\n",
    "# Delete Python-style comments\n",
    "num = re.sub(r'#.*$', \"\", phone)\n",
    "print (\"Phone Num : \", num)\n",
    "\n",
    "# Remove anything other than digits\n",
    "num = re.sub(r'\\D', \"\", phone)    \n",
    "print (\"Phone Num : \", num)"
   ]
  },
  {
   "cell_type": "raw",
   "metadata": {},
   "source": [
    "Regular Expression Patterns\n",
    "Except for control characters, (+ ? . * ^ $ ( ) [ ] { } | \\), all characters match themselves. You can escape a control character by preceding it with a backslash.\n",
    "\n",
    "Pattern & Description\n",
    "1\n",
    "^\n",
    "Matches beginning of line.\n",
    "2\n",
    "$\n",
    "Matches end of line.\n",
    "3\n",
    ".\n",
    "Matches any single character except newline. Using m option allows it to match newline as well.\n",
    "4\n",
    "[...]\n",
    "Matches any single character in brackets.\n",
    "5\n",
    "[^...]\n",
    "Matches any single character not in brackets\n",
    "6\n",
    "re*\n",
    "Matches 0 or more occurrences of preceding expression.\n",
    "7\n",
    "re+\n",
    "Matches 1 or more occurrence of preceding expression.\n",
    "8\n",
    "re?\n",
    "Matches 0 or 1 occurrence of preceding expression.\n",
    "9\n",
    "re{ n}\n",
    "Matches exactly n number of occurrences of preceding expression.\n",
    "10\n",
    "re{ n,}\n",
    "Matches n or more occurrences of preceding expression.\n",
    "11\n",
    "re{ n, m}\n",
    "Matches at least n and at most m occurrences of preceding expression.\n",
    "12\n",
    "a| b\n",
    "Matches either a or b.\n",
    "13\n",
    "(re)\n",
    "Groups regular expressions and remembers matched text.\n",
    "14\n",
    "(?imx)\n",
    "Temporarily toggles on i, m, or x options within a regular expression. If in parentheses, only that area is affected.\n",
    "15\n",
    "(?-imx)\n",
    "Temporarily toggles off i, m, or x options within a regular expression. If in parentheses, only that area is affected.\n",
    "16\n",
    "(?: re)\n",
    "Groups regular expressions without remembering matched text.\n",
    "17\n",
    "(?imx: re)\n",
    "Temporarily toggles on i, m, or x options within parentheses.\n",
    "18\n",
    "(?-imx: re)\n",
    "Temporarily toggles off i, m, or x options within parentheses.\n",
    "19\n",
    "(?#...)\n",
    "Comment.\n",
    "20\n",
    "(?= re)\n",
    "Specifies position using a pattern. Doesn't have a range.\n",
    "21\n",
    "(?! re)\n",
    "Specifies position using pattern negation. Doesn't have a range.\n",
    "22\n",
    "(?> re)\n",
    "Matches independent pattern without backtracking.\n",
    "23\n",
    "\\w\n",
    "Matches word characters.\n",
    "24\n",
    "\\W\n",
    "Matches nonword characters.\n",
    "25\n",
    "\\s\n",
    "Matches whitespace. Equivalent to [\\t\\n\\r\\f].\n",
    "26\n",
    "\\S\n",
    "Matches nonwhitespace.\n",
    "27\n",
    "\\d\n",
    "Matches digits. Equivalent to [0-9].\n",
    "28\n",
    "\\D\n",
    "Matches nondigits.\n",
    "29\n",
    "\\A\n",
    "Matches beginning of string.\n",
    "30\n",
    "\\Z\n",
    "Matches end of string. If a newline exists, it matches just before newline.\n",
    "31\n",
    "\\z\n",
    "Matches end of string.\n",
    "32\n",
    "\\G\n",
    "Matches point where last match finished.\n",
    "33\n",
    "\\b\n",
    "Matches word boundaries when outside brackets. Matches backspace (0x08) when inside brackets.\n",
    "34\n",
    "\\B\n",
    "Matches nonword boundaries.\n",
    "35\n",
    "\\n, \\t, etc.\n",
    "Matches newlines, carriage returns, tabs, etc.\n",
    "36\n",
    "\\1...\\9\n",
    "Matches nth grouped subexpression.\n",
    "37\n",
    "\\10\n",
    "Matches nth grouped subexpression if it matched already. Otherwise refers to the octal representation of a character code."
   ]
  },
  {
   "cell_type": "raw",
   "metadata": {},
   "source": [
    "Example & Description\n",
    "1\n",
    ".\n",
    "Match any character except newline\n",
    "2\n",
    "\\d\n",
    "Match a digit: [0-9]\n",
    "3\n",
    "\\D\n",
    "Match a nondigit: [^0-9]\n",
    "4\n",
    "\\s\n",
    "Match a whitespace character: [ \\t\\r\\n\\f]\n",
    "5\n",
    "\\S\n",
    "Match nonwhitespace: [^ \\t\\r\\n\\f]\n",
    "6\n",
    "\\w\n",
    "Match a single word character: [A-Za-z0-9_]\n",
    "7\n",
    "\\W\n",
    "Match a nonword character: [^A-Za-z0-9_]"
   ]
  },
  {
   "cell_type": "raw",
   "metadata": {},
   "source": [
    "Anchors\n",
    "This needs to specify match position.\n",
    "Sr.No.\n",
    "Example & Description\n",
    "1\n",
    "^Python\n",
    "Match \"Python\" at the start of a string or internal line\n",
    "2\n",
    "Python$\n",
    "Match \"Python\" at the end of a string or line\n",
    "3\n",
    "\\APython\n",
    "Match \"Python\" at the start of a string\n",
    "4\n",
    "Python\\Z\n",
    "Match \"Python\" at the end of a string\n",
    "5\n",
    "\\bPython\\b\n",
    "Match \"Python\" at a word boundary\n",
    "6\n",
    "\\brub\\B\n",
    "\\B is nonword boundary: match \"rub\" in \"rube\" and \"ruby\" but not alone\n",
    "7\n",
    "Python(?=!)\n",
    "Match \"Python\", if followed by an exclamation point.\n",
    "8\n",
    "Python(?!!)\n",
    "Match \"Python\", if not followed by an exclamation point.\n",
    "Special Syntax with Parentheses\n",
    "Sr.No.\n",
    "Example & Description\n",
    "1\n",
    "R(?#comment)\n",
    "Matches \"R\". All the rest is a comment\n",
    "2\n",
    "R(?i)uby\n",
    "Case-insensitive while matching \"uby\"\n",
    "3\n",
    "R(?i:uby)\n",
    "Same as above\n",
    "4\n",
    "rub(?:y|le))\n",
    "Group only without creating \\1 backreference"
   ]
  },
  {
   "cell_type": "code",
   "execution_count": null,
   "metadata": {},
   "outputs": [],
   "source": []
  }
 ],
 "metadata": {
  "kernelspec": {
   "display_name": "Python 3",
   "language": "python",
   "name": "python3"
  },
  "language_info": {
   "codemirror_mode": {
    "name": "ipython",
    "version": 3
   },
   "file_extension": ".py",
   "mimetype": "text/x-python",
   "name": "python",
   "nbconvert_exporter": "python",
   "pygments_lexer": "ipython3",
   "version": "3.7.6"
  }
 },
 "nbformat": 4,
 "nbformat_minor": 4
}
